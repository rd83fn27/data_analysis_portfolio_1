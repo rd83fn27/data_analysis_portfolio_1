{
 "cells": [
  {
   "cell_type": "markdown",
   "metadata": {
    "pycharm": {
     "name": "#%% md\n"
    }
   },
   "source": [
    "# My Python Data Portfolio 3\n",
    "\n",
    "### Aim\n",
    "The aims of this section are to\n",
    "1. Explore the cleaned data.\n",
    "2. Scale the data if required, selecting an appropriate method of scaling.\n",
    "3. Rank the columns by variability of data.\n",
    "4. Find out which measurements have the most/least variability.\n",
    "\n",
    "#### About the data\n",
    "\n",
    "My data set is in the form of comma separated values (csv).<br>\n",
    "This is the third part of my data analysis portfolio 1.\n",
    "If you are interested in part 1 see here, or here for part 2."
   ]
  },
  {
   "cell_type": "markdown",
   "metadata": {
    "pycharm": {
     "name": "#%% md\n"
    }
   },
   "source": [
    "#### Importing and checking the data\n",
    "\n",
    "After the data is imported, it can be checked to see that there are ten measurement columns and ten columns that show the dates the measurements were taken."
   ]
  },
  {
   "cell_type": "code",
   "execution_count": 21,
   "metadata": {
    "collapsed": true
   },
   "outputs": [
    {
     "name": "stdout",
     "output_type": "stream",
     "text": [
      "<class 'pandas.core.frame.DataFrame'>\n",
      "RangeIndex: 9813 entries, 0 to 9812\n",
      "Data columns (total 24 columns):\n",
      " #   Column               Non-Null Count  Dtype  \n",
      "---  ------               --------------  -----  \n",
      " 0   ID                   9813 non-null   int64  \n",
      " 1   Start Date           9813 non-null   object \n",
      " 2   End Date             9813 non-null   object \n",
      " 3   Measurements 1       9813 non-null   float64\n",
      " 4   Measurements 2       9813 non-null   float64\n",
      " 5   Measurements 3       9813 non-null   float64\n",
      " 6   Measurements 4       9813 non-null   float64\n",
      " 7   Measurements 5       9813 non-null   float64\n",
      " 8   Measurements 6       9813 non-null   float64\n",
      " 9   Measurements 7       9813 non-null   float64\n",
      " 10  Measurements 8       9813 non-null   float64\n",
      " 11  Measurements 9       9813 non-null   float64\n",
      " 12  Measurements 10      9813 non-null   float64\n",
      " 13  Active               9813 non-null   bool   \n",
      " 14  Measurement Date 1   9813 non-null   object \n",
      " 15  Measurement Date 2   9813 non-null   object \n",
      " 16  Measurement Date 3   9813 non-null   object \n",
      " 17  Measurement Date 4   9813 non-null   object \n",
      " 18  Measurement Date 5   9813 non-null   object \n",
      " 19  Measurement Date 6   9813 non-null   object \n",
      " 20  Measurement Date 7   9813 non-null   object \n",
      " 21  Measurement Date 8   9813 non-null   object \n",
      " 22  Measurement Date 9   9813 non-null   object \n",
      " 23  Measurement Date 10  9813 non-null   object \n",
      "dtypes: bool(1), float64(10), int64(1), object(12)\n",
      "memory usage: 1.7+ MB\n"
     ]
    }
   ],
   "source": [
    "import pandas as pd\n",
    "import numpy as np\n",
    "import matplotlib.pyplot as plt\n",
    "\n",
    "measurements=pd.read_csv('measurements_and_active.csv')\n",
    "measurements.info()"
   ]
  },
  {
   "cell_type": "markdown",
   "metadata": {},
   "source": [
    "In order to make the data easier to work with a list is created.<br>\n",
    "The list contains the names of all the measurement columns.<br>"
   ]
  },
  {
   "cell_type": "code",
   "execution_count": 22,
   "metadata": {
    "pycharm": {
     "name": "#%%\n"
    }
   },
   "outputs": [
    {
     "name": "stdout",
     "output_type": "stream",
     "text": [
      "['Measurements 1', 'Measurements 2', 'Measurements 3', 'Measurements 4', 'Measurements 5', 'Measurements 6', 'Measurements 7', 'Measurements 8', 'Measurements 9', 'Measurements 10']\n"
     ]
    }
   ],
   "source": [
    "measurement_columns=['Measurements {}'.format(i+1) for i in range(10)]\n",
    "print(measurement_columns)"
   ]
  },
  {
   "cell_type": "markdown",
   "metadata": {
    "pycharm": {
     "name": "#%% md\n"
    }
   },
   "source": [
    "#### Average and scale\n",
    "The first thing to be looked at will be the scales involved in the different columns of measurement.<br>\n",
    "This is to see if the data can be compared across columns. <br>\n",
    "By plotting every value in a column, it is obvious that there are very different ranges of values involved.<br>\n",
    "Measurement 2 seems to have a much higher average and range of values than any of the other columns.<br>\n",
    "Columns 1, 3, 4, 6, 8 and 10 have very small values in comparison to column 2.<br>\n",
    "This means that the values will have to be scaled for better comparison."
   ]
  },
  {
   "cell_type": "code",
   "execution_count": 23,
   "metadata": {
    "pycharm": {
     "name": "#%%\n"
    }
   },
   "outputs": [
    {
     "data": {
      "text/plain": "<Figure size 432x288 with 1 Axes>",
      "image/png": "[encoded data removed]"
     },
     "metadata": {
      "needs_background": "light"
     },
     "output_type": "display_data"
    }
   ],
   "source": [
    "for i in range(10):\n",
    "    plt.scatter([i+1]*measurements.shape[0], y=measurements['Measurements {}'.format(i+1)], marker=\"_\")\n",
    "plt.xlabel('Measurement columns')\n",
    "plt.ylabel('Measurements')\n",
    "plt.xticks(ticks=[1,2,3,4,5,6,7,8,9,10])\n",
    "plt.show()"
   ]
  },
  {
   "cell_type": "markdown",
   "source": [
    "#### Looking at each column separately\n",
    "Before scaling the measurements, each column can be graphed by itself.<br>\n",
    "This will give a closer view of each columns data, as well as something that the scaled data can be compared to.<br>\n",
    "When the data has been scaled, the resulting graph should look similar to a merging of the ten graphs shown."
   ],
   "metadata": {
    "collapsed": false,
    "pycharm": {
     "name": "#%% md\n"
    }
   }
  },
  {
   "cell_type": "code",
   "execution_count": 24,
   "outputs": [
    {
     "data": {
      "text/plain": "<Figure size 864x576 with 10 Axes>",
      "image/png": "[encoded data removed]"
     },
     "metadata": {
      "needs_background": "light"
     },
     "output_type": "display_data"
    }
   ],
   "source": [
    "fig, axs = plt.subplots(1,10, figsize=(12,8))\n",
    "fig.suptitle('Measurement columns - various scales', fontsize=20)\n",
    "for i in range(10):\n",
    "    axs[i].scatter([i+1]*measurements.shape[0],y=measurements['Measurements {}'.format(i+1)], marker=\"_\")\n",
    "    axs[i].set_axis_off()\n",
    "    axs[i].set_title(i+1)\n",
    "plt.show()"
   ],
   "metadata": {
    "collapsed": false,
    "pycharm": {
     "name": "#%%\n"
    }
   }
  },
  {
   "cell_type": "markdown",
   "source": [
    "#### Scaling the data\n",
    "Given the large differences in values, the data is scaled using the following formula<br>\n",
    "(x-min)/(max-min)<br>\n",
    "where<br>\n",
    "- 'x' is a value in the column\n",
    "- 'min' is the minimum value in the column\n",
    "- 'max' is the maximum value in the column\n",
    "\n",
    "This scaling makes all values between 0 and 1.<br>\n",
    "\n",
    "After the data is scaled it is stored in a data set called 'measurements_scaled'.<br>\n",
    "The data can now be more easily compared. <br>\n",
    "\n",
    "The combined graph here looks similar to when each individual column was displayed.<br>\n",
    "This indicates that the scaling process has not greatly distorted the data.\n",
    "\n"
   ],
   "metadata": {
    "collapsed": false
   }
  },
  {
   "cell_type": "code",
   "execution_count": 25,
   "outputs": [
    {
     "data": {
      "text/plain": "<Figure size 432x288 with 1 Axes>",
      "image/png": "[encoded data removed]"
     },
     "metadata": {
      "needs_background": "light"
     },
     "output_type": "display_data"
    }
   ],
   "source": [
    "def scale(values):\n",
    "    return (values-values.min())/(values.max()-values.min())\n",
    "\n",
    "measurements_scaled = measurements[measurement_columns].apply(scale)\n",
    "\n",
    "for i in range(10):\n",
    "    plt.scatter([i+1]*measurements_scaled.shape[0], y=measurements_scaled['Measurements {}'.format(i+1)], marker=\"_\")\n",
    "plt.xlabel('Measurement columns')\n",
    "plt.ylabel('Measurements')\n",
    "plt.xticks(ticks=[1,2,3,4,5,6,7,8,9,10])\n",
    "plt.show()\n"
   ],
   "metadata": {
    "collapsed": false,
    "pycharm": {
     "name": "#%%\n"
    }
   }
  },
  {
   "cell_type": "markdown",
   "source": [
    "#### Standard deviation of measurement columns\n",
    "\n",
    "Now that the data has been scaled, the standard deviation of each column can be found and ranked.<br>\n",
    "\n",
    "- Measurement 1 has the smallest standard deviation, suggesting it is the most consistent measurement.\n",
    "- Measurement 3 has the largest standard deviation, suggesting it is the least consistent measurement."
   ],
   "metadata": {
    "collapsed": false,
    "pycharm": {
     "name": "#%% md\n"
    }
   }
  },
  {
   "cell_type": "code",
   "execution_count": 26,
   "outputs": [
    {
     "data": {
      "text/plain": "<Figure size 432x288 with 1 Axes>",
      "image/png": "[encoded data removed]"
     },
     "metadata": {
      "needs_background": "light"
     },
     "output_type": "display_data"
    },
    {
     "name": "stdout",
     "output_type": "stream",
     "text": [
      "Measurements 1     0.110176\n",
      "Measurements 8     0.118676\n",
      "Measurements 5     0.130570\n",
      "Measurements 7     0.131665\n",
      "Measurements 2     0.131776\n",
      "Measurements 10    0.136678\n",
      "Measurements 4     0.137428\n",
      "Measurements 9     0.138723\n",
      "Measurements 6     0.142031\n",
      "Measurements 3     0.142416\n",
      "dtype: float64\n"
     ]
    }
   ],
   "source": [
    "standard_deviations=measurements_scaled[measurement_columns].std()\n",
    "\n",
    "plt.bar(measurement_columns,standard_deviations)\n",
    "plt.xticks(rotation=90)\n",
    "plt.show()\n",
    "\n",
    "print(standard_deviations.sort_values())"
   ],
   "metadata": {
    "collapsed": false,
    "pycharm": {
     "name": "#%%\n"
    }
   }
  },
  {
   "cell_type": "markdown",
   "source": [
    "#### Conclusion\n",
    "\n",
    "Looking back at the aims of this section the data has been\n",
    "- Explored and scaled\n",
    "- The variability of the data has been determined via standard deviation and ranked on a per column basis.\n",
    "- The columns with the most and least standard deviation have been found.\n"
   ],
   "metadata": {
    "collapsed": false,
    "pycharm": {
     "name": "#%% md\n"
    }
   }
  }
 ],
 "metadata": {
  "kernelspec": {
   "display_name": "Python 3",
   "language": "python",
   "name": "python3"
  },
  "language_info": {
   "codemirror_mode": {
    "name": "ipython",
    "version": 3
   },
   "file_extension": ".py",
   "mimetype": "text/x-python",
   "name": "python",
   "nbconvert_exporter": "python",
   "pygments_lexer": "ipython3",
   "version": "3.8.2"
  }
 },
 "nbformat": 4,
 "nbformat_minor": 1
}